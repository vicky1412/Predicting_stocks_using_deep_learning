{
  "nbformat": 4,
  "nbformat_minor": 0,
  "metadata": {
    "colab": {
      "name": "real-time-1m-classification.ipynb",
      "provenance": [],
      "mount_file_id": "1NDi1o8-LJXZ0SYU6LkDrk4Olej7KF528",
      "authorship_tag": "ABX9TyMEqeO2B/WLjpUSkxISfsoR",
      "include_colab_link": true
    },
    "kernelspec": {
      "name": "python3",
      "display_name": "Python 3"
    },
    "language_info": {
      "name": "python"
    }
  },
  "cells": [
    {
      "cell_type": "markdown",
      "metadata": {
        "id": "view-in-github",
        "colab_type": "text"
      },
      "source": [
        "<a href=\"https://colab.research.google.com/github/vicky1412/Predicting_stocks_using_deep_learning-using-realtime-/blob/main/real_time_1m_classification.ipynb\" target=\"_parent\"><img src=\"https://colab.research.google.com/assets/colab-badge.svg\" alt=\"Open In Colab\"/></a>"
      ]
    },
    {
      "cell_type": "markdown",
      "metadata": {
        "id": "5FEglOVmYwAb"
      },
      "source": [
        "## Imports"
      ]
    },
    {
      "cell_type": "code",
      "metadata": {
        "id": "F5hjmzSZZ9TM"
      },
      "source": [
        "pip install alpha_vantage"
      ],
      "execution_count": null,
      "outputs": []
    },
    {
      "cell_type": "code",
      "metadata": {
        "id": "Dz1GPKOwZB_O"
      },
      "source": [
        "import pickle\n",
        "import numpy as np\n",
        "import pandas as pd\n",
        "import matplotlib\n",
        "import matplotlib.pyplot as plt\n",
        "import seaborn as sns\n",
        "import math\n",
        "from sklearn.linear_model import LogisticRegression\n",
        "plt.style.use('fivethirtyeight')"
      ],
      "execution_count": null,
      "outputs": []
    },
    {
      "cell_type": "markdown",
      "metadata": {
        "id": "RWhn4Y5lQ4Cg"
      },
      "source": [
        "## Create API object"
      ]
    },
    {
      "cell_type": "code",
      "metadata": {
        "id": "_1edmVgnQ3lL"
      },
      "source": [
        "from alpha_vantage.foreignexchange import ForeignExchange\n",
        "\n",
        "API_Key = 'GICCCRW4PJWT0C9'\n",
        "ts = ForeignExchange(key=API_Key,output_format='pandas')"
      ],
      "execution_count": null,
      "outputs": []
    },
    {
      "cell_type": "markdown",
      "metadata": {
        "id": "fJiGeSY9ZVP2"
      },
      "source": [
        "## Load the Model"
      ]
    },
    {
      "cell_type": "code",
      "metadata": {
        "id": "mn9iV4_fZYB7"
      },
      "source": [
        "Filename = \"/content/drive/MyDrive/Option Trading/options-trading-classification-model.pkl\"  \n",
        "with open(Filename, 'rb') as file:  \n",
        "    model = pickle.load(file)"
      ],
      "execution_count": null,
      "outputs": []
    },
    {
      "cell_type": "markdown",
      "metadata": {
        "id": "jJ0CFbuBO-4x"
      },
      "source": [
        "## Create API object"
      ]
    },
    {
      "cell_type": "code",
      "metadata": {
        "id": "Ny2H3zXKZxKH"
      },
      "source": [
        "from alpha_vantage.foreignexchange import ForeignExchange\n",
        "\n",
        "API_Key = 'GICCCRW4PJWT0C9'\n",
        "ts = ForeignExchange(key=API_Key,output_format='pandas')"
      ],
      "execution_count": null,
      "outputs": []
    },
    {
      "cell_type": "code",
      "metadata": {
        "colab": {
          "base_uri": "https://localhost:8080/",
          "height": 360
        },
        "id": "P6df49G7aCQT",
        "outputId": "cbc689a0-b265-4f5f-c4ae-a459fdab9041"
      },
      "source": [
        "data = ts.get_currency_exchange_intraday(from_symbol='EUR', to_symbol='USD', interval='1min', outputsize='full')[0]\n",
        "# Rename the columns\n",
        "data.rename(columns = {'1. open':'Open'}, inplace = True)\n",
        "data.rename(columns = {'2. high':'High'}, inplace = True)\n",
        "data.rename(columns = {'3. low':'Low'}, inplace = True)\n",
        "data.rename(columns = {'4. close':'Close'}, inplace = True)\n",
        "# set Index\n",
        "data['Index'] = np.arange(len(data))\n",
        "data.set_index('Index',inplace=True)\n",
        "# Add Candle column\n",
        "def colors(row):\n",
        "  if row['Open'] < row['Close']:\n",
        "    return 1\n",
        "  elif row['Open'] > row['Close']:\n",
        "    return 0\n",
        "  else:\n",
        "    return -1\n",
        "data['Candle'] = data.apply (lambda row: colors(row), axis=1)\n",
        "# Target (Candle)\n",
        "dfcandle = data.filter(['Candle'])\n",
        "# extract last 60 \n",
        "# reverse it\n",
        "last_60_1m_candle = dfcandle[0:60]\n",
        "last_60_1m_candle = last_60_1m_candle.iloc[::-1]\n",
        "# set Index\n",
        "last_60_1m_candle['Index'] = np.arange(len(last_60_1m_candle))\n",
        "last_60_1m_candle.set_index('Index',inplace=True)\n",
        "\n",
        "dataset = last_60_1m_candle.values\n",
        "x = []\n",
        "x.append(dataset[0:60])\n",
        "x = np.array(x)\n",
        "x = np.reshape(x,(x.shape[0],x.shape[1]))\n",
        "final_data = pd.DataFrame(x)\n",
        "# Predict\n",
        "predictions_current = model.predict(final_data)\n",
        "\n",
        "next = final_data\n",
        "next.pop(0)\n",
        "next[60] = predictions_current[0]\n",
        "\n",
        "predictions_next = model.predict(next)\n",
        "\n",
        "# Virtualize\n",
        "fig, ax = plt.subplots(1,2,figsize=(12,5))\n",
        "# Title\n",
        "ax[0].set(title=\"current_predicted\", xlabel=\"Height\", ylabel=\"Width\")\n",
        "ax[1].set(title=\"Next_predicted\", xlabel=\"Height\", ylabel=\"Width\")\n",
        "# X and Y limit\n",
        "ax[0].set_xlim(0,5)\n",
        "ax[0].set_ylim(0,5)\n",
        "ax[1].set_xlim(0,5)\n",
        "ax[1].set_ylim(0,5)\n",
        "# hide grid\n",
        "ax[0].grid(False)\n",
        "ax[1].grid(False)\n",
        "# hide axis\n",
        "ax[0].axis('off')\n",
        "ax[1].axis('off')\n",
        "\n",
        "def rects(axx,ayy,width,height,cancolor):\n",
        "  rect = matplotlib.patches.Rectangle((axx, ayy),width, height,color =cancolor)\n",
        "  return rect\n",
        "\n",
        "#current_predict\n",
        "if predictions_current[0] == 1:\n",
        "  rect = rects(2,1,1,3,'green')\n",
        "  ax[0].add_patch(rect)\n",
        "elif predictions_current[0] == 0:\n",
        "  rect = rects(2,1,1,3,'red')\n",
        "  ax[0].add_patch(rect)\n",
        "else:\n",
        "  rect = rects(2,1,1,3,'black')\n",
        "  ax[0].add_patch(rect)\n",
        "# next_predict\n",
        "if predictions_next[0] == 1:\n",
        "  rect = rects(2,1,1,3,'green')\n",
        "  ax[1].add_patch(rect)\n",
        "elif predictions_next[0] == 0:\n",
        "  rect = rects(2,1,1,3,'red')\n",
        "  ax[1].add_patch(rect)\n",
        "else:\n",
        "  rect = rects(2,1,1,3,'black')\n",
        "  ax[1].add_patch(rect)\n",
        "\n"
      ],
      "execution_count": null,
      "outputs": [
        {
          "output_type": "display_data",
          "data": {
            "image/png": "[encoded data removed]",
            "text/plain": [
              "<Figure size 864x360 with 2 Axes>"
            ]
          },
          "metadata": {
            "tags": []
          }
        }
      ]
    }
  ]
}