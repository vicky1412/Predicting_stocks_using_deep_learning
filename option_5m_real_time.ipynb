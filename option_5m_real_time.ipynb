{
  "nbformat": 4,
  "nbformat_minor": 0,
  "metadata": {
    "colab": {
      "name": "option-5m-real-time.ipynb",
      "provenance": [],
      "mount_file_id": "1xjSGIZ1YmdWx6ipA_G4FSwsJi54VPj0X",
      "authorship_tag": "ABX9TyON1T+0jPBGRHP69SnnTPZC",
      "include_colab_link": true
    },
    "kernelspec": {
      "name": "python3",
      "display_name": "Python 3"
    },
    "language_info": {
      "name": "python"
    }
  },
  "cells": [
    {
      "cell_type": "markdown",
      "metadata": {
        "id": "view-in-github",
        "colab_type": "text"
      },
      "source": [
        "<a href=\"https://colab.research.google.com/github/vicky1412/Predicting_stocks_using_deep_learning/blob/main/option_5m_real_time.ipynb\" target=\"_parent\"><img src=\"https://colab.research.google.com/assets/colab-badge.svg\" alt=\"Open In Colab\"/></a>"
      ]
    },
    {
      "cell_type": "code",
      "metadata": {
        "id": "2VHbRL_Q2L26"
      },
      "source": [
        "pip install yfinance"
      ],
      "execution_count": null,
      "outputs": []
    },
    {
      "cell_type": "code",
      "metadata": {
        "id": "7xbLk8AV0-SR"
      },
      "source": [
        "from keras.models import load_model\n",
        "import yfinance as yf\n",
        "from sklearn.preprocessing import MinMaxScaler\n",
        "import numpy as np\n",
        "import pandas as pd\n",
        "import matplotlib\n",
        "import matplotlib.pyplot as plt"
      ],
      "execution_count": null,
      "outputs": []
    },
    {
      "cell_type": "code",
      "metadata": {
        "id": "lvqEmGaJ1YJs"
      },
      "source": [
        "model = load_model(\"/content/drive/MyDrive/Option Trading/options-5m-model.h5\")"
      ],
      "execution_count": null,
      "outputs": []
    },
    {
      "cell_type": "code",
      "metadata": {
        "id": "v4WbP-IZ2Edx"
      },
      "source": [
        "\n",
        "def predict(data):\n",
        "  # DF-->array\n",
        "  data = data.values\n",
        "\n",
        "  # Scale(0,1)\n",
        "  scaler = MinMaxScaler(feature_range=(0,1))\n",
        "  last_60_5m_data_scaled = scaler.fit_transform(data)\n",
        "\n",
        "  #create x_test\n",
        "  X_test = []\n",
        "  X_test.append(last_60_5m_data_scaled)\n",
        "\n",
        "  # X_test-->numpy array\n",
        "  X_test = np.array(X_test)\n",
        "  # Reshape\n",
        "  X_test = np.reshape(X_test,(X_test.shape[0],X_test.shape[1],1))\n",
        "\n",
        "  #Predict\n",
        "  current_predict = model.predict(X_test)\n",
        "  current_predict = scaler.inverse_transform(current_predict)\n",
        "\n",
        "  mse = 0 # np.sqrt(6.19342782)\n",
        "\n",
        "  min_value = current_predict - mse\n",
        "  max_value = current_predict + mse\n",
        "  \n",
        "  x = ''\n",
        "  if data[-1] < min_value:\n",
        "    x = 'Green'\n",
        "  elif data[-1] > max_value:\n",
        "    x = 'Red'\n",
        "  \n",
        "  return x,current_predict\n"
      ],
      "execution_count": null,
      "outputs": []
    },
    {
      "cell_type": "code",
      "metadata": {
        "id": "X1Fanp9L2P38"
      },
      "source": [
        "# current_data = yf.download(\"BTC-USD\", period='7d',interval='1m')\n",
        "# current_df = current_data.filter([\"Close\"])\n",
        "\n",
        "# last_60_5m_data = current_df[-60:]\n",
        "\n",
        "# candle = []\n",
        "# color,current_predict = predict(last_60_5m_data)\n",
        "\n",
        "# candle.append(color)\n",
        "# for i in range(9):\n",
        "#   last_60_5m_data = last_60_5m_data[1:]\n",
        "#   current_predict = pd.DataFrame(current_predict, columns = ['Close'])\n",
        "#   last_60_5m_data = last_60_5m_data.append(current_predict)\n",
        "#   color,current_predict = predict(last_60_5m_data)\n",
        "#   candle.append(color)\n",
        "# df = pd.DataFrame(candle, columns = ['candle'])\n",
        "# dummies = pd.get_dummies(df[['candle']])\n"
      ],
      "execution_count": null,
      "outputs": []
    },
    {
      "cell_type": "code",
      "metadata": {
        "colab": {
          "base_uri": "https://localhost:8080/",
          "height": 407
        },
        "id": "5Be1Xbx8ht0B",
        "outputId": "39cfe0b0-84bb-4c55-d92c-5adc359649ea"
      },
      "source": [
        "current_data = yf.download(\"BTC-USD\", period='10d',interval='5m')\n",
        "current_df = current_data.filter([\"Close\",'Open'])\n",
        "current_df_close = current_data.filter(['Close'])\n",
        "last_60_5m_data = current_df_close[-60:]\n",
        "\n",
        "candle = []\n",
        "\n",
        "\n",
        "last_10 = current_df[-10:]\n",
        "\n",
        "for index, row in last_10.iterrows():\n",
        "  if row['Close'] > row['Open']:\n",
        "    x= 'Green'\n",
        "  elif row['Close'] < row['Open']:\n",
        "    x= 'Red'\n",
        "  else:\n",
        "    x= 'White'\n",
        "  candle.append(x)\n",
        "\n",
        "color,current_predict = predict(last_60_5m_data)\n",
        "candle.append(color)\n",
        "\n",
        "df = pd.DataFrame(candle, columns = ['candle'])\n",
        "dummies = pd.get_dummies(df[['candle']])\n",
        "\n",
        "\n",
        "dummies"
      ],
      "execution_count": null,
      "outputs": [
        {
          "output_type": "stream",
          "text": [
            "\r[*********************100%***********************]  1 of 1 completed\n"
          ],
          "name": "stdout"
        },
        {
          "output_type": "execute_result",
          "data": {
            "text/html": [
              "<div>\n",
              "<style scoped>\n",
              "    .dataframe tbody tr th:only-of-type {\n",
              "        vertical-align: middle;\n",
              "    }\n",
              "\n",
              "    .dataframe tbody tr th {\n",
              "        vertical-align: top;\n",
              "    }\n",
              "\n",
              "    .dataframe thead th {\n",
              "        text-align: right;\n",
              "    }\n",
              "</style>\n",
              "<table border=\"1\" class=\"dataframe\">\n",
              "  <thead>\n",
              "    <tr style=\"text-align: right;\">\n",
              "      <th></th>\n",
              "      <th>candle_Green</th>\n",
              "      <th>candle_Red</th>\n",
              "      <th>candle_White</th>\n",
              "    </tr>\n",
              "  </thead>\n",
              "  <tbody>\n",
              "    <tr>\n",
              "      <th>0</th>\n",
              "      <td>0</td>\n",
              "      <td>1</td>\n",
              "      <td>0</td>\n",
              "    </tr>\n",
              "    <tr>\n",
              "      <th>1</th>\n",
              "      <td>1</td>\n",
              "      <td>0</td>\n",
              "      <td>0</td>\n",
              "    </tr>\n",
              "    <tr>\n",
              "      <th>2</th>\n",
              "      <td>0</td>\n",
              "      <td>1</td>\n",
              "      <td>0</td>\n",
              "    </tr>\n",
              "    <tr>\n",
              "      <th>3</th>\n",
              "      <td>1</td>\n",
              "      <td>0</td>\n",
              "      <td>0</td>\n",
              "    </tr>\n",
              "    <tr>\n",
              "      <th>4</th>\n",
              "      <td>0</td>\n",
              "      <td>1</td>\n",
              "      <td>0</td>\n",
              "    </tr>\n",
              "    <tr>\n",
              "      <th>5</th>\n",
              "      <td>0</td>\n",
              "      <td>1</td>\n",
              "      <td>0</td>\n",
              "    </tr>\n",
              "    <tr>\n",
              "      <th>6</th>\n",
              "      <td>1</td>\n",
              "      <td>0</td>\n",
              "      <td>0</td>\n",
              "    </tr>\n",
              "    <tr>\n",
              "      <th>7</th>\n",
              "      <td>0</td>\n",
              "      <td>1</td>\n",
              "      <td>0</td>\n",
              "    </tr>\n",
              "    <tr>\n",
              "      <th>8</th>\n",
              "      <td>0</td>\n",
              "      <td>1</td>\n",
              "      <td>0</td>\n",
              "    </tr>\n",
              "    <tr>\n",
              "      <th>9</th>\n",
              "      <td>0</td>\n",
              "      <td>0</td>\n",
              "      <td>1</td>\n",
              "    </tr>\n",
              "    <tr>\n",
              "      <th>10</th>\n",
              "      <td>0</td>\n",
              "      <td>1</td>\n",
              "      <td>0</td>\n",
              "    </tr>\n",
              "  </tbody>\n",
              "</table>\n",
              "</div>"
            ],
            "text/plain": [
              "    candle_Green  candle_Red  candle_White\n",
              "0              0           1             0\n",
              "1              1           0             0\n",
              "2              0           1             0\n",
              "3              1           0             0\n",
              "4              0           1             0\n",
              "5              0           1             0\n",
              "6              1           0             0\n",
              "7              0           1             0\n",
              "8              0           1             0\n",
              "9              0           0             1\n",
              "10             0           1             0"
            ]
          },
          "metadata": {
            "tags": []
          },
          "execution_count": 32
        }
      ]
    },
    {
      "cell_type": "code",
      "metadata": {
        "colab": {
          "base_uri": "https://localhost:8080/",
          "height": 621
        },
        "id": "GWmbygHE2k5g",
        "outputId": "84a4332d-dcdb-46e6-f035-0dce27e8c214"
      },
      "source": [
        "# virtualize\n",
        "\n",
        "fig, ax = plt.subplots(figsize=(10,10))\n",
        "\n",
        "# Customize plot\n",
        "ax.set(title=\"Future Candles\", xlabel=\"Height\", ylabel=\"Width\")\n",
        "\n",
        "plt.xlim([0, 50])\n",
        "plt.ylim([-20, 20])\n",
        "\n",
        "def rects(axx,ayy,cancolor):\n",
        "  rect = matplotlib.patches.Rectangle((axx, ayy),\n",
        "                                      1, 2,\n",
        "                                      color =cancolor)\n",
        "  return rect\n",
        "\n",
        "for index, row in dummies.iterrows():\n",
        "  axx = index\n",
        "  if row[\"candle_Green\"] == 1:\n",
        "    ayy = index\n",
        "    cancolor = 'Green'\n",
        "    rect = rects(axx,ayy,cancolor)\n",
        "    ax.add_patch(rect)\n",
        "  elif row[\"candle_Red\"] == 1:\n",
        "    ayy = index if axx == 0 else (ayy-1)\n",
        "    cancolor = 'Red'\n",
        "    rect = rects(axx,ayy,cancolor)\n",
        "    ax.add_patch(rect)\n",
        "  else:\n",
        "    ayy = index-1\n",
        "    cancolor = 'White'\n",
        "    rect = rects(axx,ayy,cancolor)\n",
        "    ax.add_patch(rect)\n",
        "  \n",
        "\n",
        "\n"
      ],
      "execution_count": null,
      "outputs": [
        {
          "output_type": "display_data",
          "data": {
            "image/png": "[encoded data removed]",
            "text/plain": [
              "<Figure size 720x720 with 1 Axes>"
            ]
          },
          "metadata": {
            "tags": [],
            "needs_background": "light"
          }
        }
      ]
    }
  ]
}