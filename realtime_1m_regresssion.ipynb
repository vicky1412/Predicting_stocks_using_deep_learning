{
  "nbformat": 4,
  "nbformat_minor": 0,
  "metadata": {
    "colab": {
      "name": "realtime-1m-regresssion.ipynb",
      "provenance": [],
      "mount_file_id": "1QLcJhVdP4y6olJqJ1fd7CYARXda6GFI3",
      "authorship_tag": "ABX9TyNR96RCgHhwURbqiJzsrjpR",
      "include_colab_link": true
    },
    "kernelspec": {
      "name": "python3",
      "display_name": "Python 3"
    },
    "language_info": {
      "name": "python"
    }
  },
  "cells": [
    {
      "cell_type": "markdown",
      "metadata": {
        "id": "view-in-github",
        "colab_type": "text"
      },
      "source": [
        "<a href=\"https://colab.research.google.com/github/vicky1412/Predicting_stocks_using_deep_learning-using-realtime-/blob/main/realtime_1m_regresssion.ipynb\" target=\"_parent\"><img src=\"https://colab.research.google.com/assets/colab-badge.svg\" alt=\"Open In Colab\"/></a>"
      ]
    },
    {
      "cell_type": "code",
      "metadata": {
        "id": "SBmNoqOAh9Kd"
      },
      "source": [
        "pip install alpha_vantage"
      ],
      "execution_count": null,
      "outputs": []
    },
    {
      "cell_type": "code",
      "metadata": {
        "id": "Bh5a0wjpNpXX"
      },
      "source": [
        "pip install yfinance"
      ],
      "execution_count": null,
      "outputs": []
    },
    {
      "cell_type": "code",
      "metadata": {
        "id": "7zxSN-nchyma"
      },
      "source": [
        "import numpy as np\n",
        "import pandas as pd\n",
        "import matplotlib\n",
        "import matplotlib.pyplot as plt\n",
        "import seaborn as sns\n",
        "import math\n",
        "import pickle\n",
        "\n",
        "# Models from Scikit-Learn\n",
        "from sklearn.ensemble import RandomForestRegressor\n",
        "\n",
        "# Model Evaluations\n",
        "from sklearn.metrics import mean_squared_error, mean_absolute_error\n",
        "from sklearn.model_selection import train_test_split, cross_val_score\n",
        "from sklearn.model_selection import RandomizedSearchCV, GridSearchCV"
      ],
      "execution_count": null,
      "outputs": []
    },
    {
      "cell_type": "markdown",
      "metadata": {
        "id": "AiZa9RmtiPpj"
      },
      "source": [
        "## Load the Model"
      ]
    },
    {
      "cell_type": "code",
      "metadata": {
        "id": "e7UL9lsciXGw"
      },
      "source": [
        "Filename1 = '/content/drive/MyDrive/Option Trading/model-1m-regressor(current).pkl'\n",
        "Filename2 = '/content/drive/MyDrive/Option Trading/model-1m-regressor(next).pkl'  \n",
        "with open(Filename1, 'rb') as file:  \n",
        "    modelcurrent = pickle.load(file)\n",
        "with open(Filename2, 'rb') as file:  \n",
        "    modelnext = pickle.load(file)"
      ],
      "execution_count": null,
      "outputs": []
    },
    {
      "cell_type": "markdown",
      "metadata": {
        "id": "jJ0CFbuBO-4x"
      },
      "source": [
        "## Create API object"
      ]
    },
    {
      "cell_type": "code",
      "metadata": {
        "id": "4HQt52rUi9ki"
      },
      "source": [
        "from alpha_vantage.foreignexchange import ForeignExchange\n",
        "\n",
        "API_Key = 'GICCCRW4PJWT0C9'\n",
        "ts = ForeignExchange(key=API_Key,output_format='pandas')"
      ],
      "execution_count": null,
      "outputs": []
    },
    {
      "cell_type": "code",
      "metadata": {
        "id": "H3y5k5l6FY-U"
      },
      "source": [
        "data = ts.get_currency_exchange_intraday(from_symbol='EUR', to_symbol='USD', interval='1min', outputsize='full')[0]\n",
        "data"
      ],
      "execution_count": null,
      "outputs": []
    },
    {
      "cell_type": "code",
      "metadata": {
        "id": "5iMPEbyJHV-7"
      },
      "source": [
        "data['Close'].value_counts()"
      ],
      "execution_count": null,
      "outputs": []
    },
    {
      "cell_type": "markdown",
      "metadata": {
        "id": "fdayBMlSjYVa"
      },
      "source": [
        "## Realtime"
      ]
    },
    {
      "cell_type": "code",
      "metadata": {
        "colab": {
          "base_uri": "https://localhost:8080/",
          "height": 319
        },
        "id": "ii7g0A29jbzI",
        "outputId": "c4fe29a8-38ad-41d9-db82-0e9dd3099dc2"
      },
      "source": [
        "data = ts.get_currency_exchange_intraday(from_symbol='EUR', to_symbol='USD', interval='1min', outputsize='full')[0]\n",
        "# Rename the columns\n",
        "data.rename(columns = {'1. open':'Open'}, inplace = True)\n",
        "data.rename(columns = {'2. high':'High'}, inplace = True)\n",
        "data.rename(columns = {'3. low':'Low'}, inplace = True)\n",
        "data.rename(columns = {'4. close':'Close'}, inplace = True)\n",
        "# set Index\n",
        "data['Index'] = np.arange(len(data))\n",
        "data.set_index('Index',inplace=True)\n",
        "# Add Diff column\n",
        "def Diff_body(row):\n",
        "  return abs(row['Open']-row['Close'])\n",
        "def Diff_wick(row):\n",
        "  return abs(row['High']-row['Low'])\n",
        "# Get the color(candles)\n",
        "data['Diff_body'] = data.apply (lambda row: Diff_body(row), axis=1)\n",
        "data['Diff_wick'] = data.apply (lambda row: Diff_wick(row), axis=1)\n",
        "final_data = data.iloc[data.index==3]\n",
        "pd.options.display.float_format = '{:,.5f}'.format\n",
        "# Predict\n",
        "predictions_current = modelcurrent.predict(final_data)[0]\n",
        "predictions_next = modelnext.predict(final_data)[0]\n",
        "\n",
        "mse_current = 0.000164\n",
        "mse_next = 0.000167\n",
        "\n",
        "previous_close = final_data['Close'].values[0]\n",
        "\n",
        "# Virtualize\n",
        "fig, ax = plt.subplots(1,2,figsize=(12,5))\n",
        "# Title\n",
        "ax[0].set(title=\"current_predicted\", xlabel=\"Height\", ylabel=\"Width\")\n",
        "ax[1].set(title=\"Next_predicted\", xlabel=\"Height\", ylabel=\"Width\")\n",
        "# X and Y limit\n",
        "ax[0].set_xlim(0,5)\n",
        "ax[0].set_ylim(0,5)\n",
        "ax[1].set_xlim(0,5)\n",
        "ax[1].set_ylim(0,5)\n",
        "# hide grid\n",
        "ax[0].grid(False)\n",
        "ax[1].grid(False)\n",
        "# hide axis\n",
        "ax[0].axis('off')\n",
        "ax[1].axis('off')\n",
        "\n",
        "def rects(axx,ayy,width,height,cancolor):\n",
        "  rect = matplotlib.patches.Rectangle((axx, ayy),width, height,color =cancolor)\n",
        "  return rect\n",
        "\n",
        "# predictions_current\n",
        "if previous_close < (predictions_current - mse_current):\n",
        "  rect = rects(2,1,1,3,'green')\n",
        "  ax[0].add_patch(rect)\n",
        "elif previous_close > (predictions_current + mse_current):\n",
        "  rect = rects(2,1,1,3,'red')\n",
        "  ax[0].add_patch(rect)\n",
        "else:\n",
        "  rect = rects(2,1,1,3,'black')\n",
        "  ax[0].add_patch(rect)\n",
        "# predictions_next\n",
        "if previous_close < (predictions_next - mse_next):\n",
        "  rect = rects(2,1,1,3,'green')\n",
        "  ax[1].add_patch(rect)\n",
        "elif previous_close > (predictions_next - mse_next):\n",
        "  rect = rects(2,1,1,3,'red')\n",
        "  ax[1].add_patch(rect)\n",
        "else:\n",
        "  rect = rects(2,1,1,3,'black')\n",
        "  ax[1].add_patch(rect)"
      ],
      "execution_count": null,
      "outputs": [
        {
          "output_type": "display_data",
          "data": {
            "image/png": "[encoded data removed]",
            "text/plain": [
              "<Figure size 864x360 with 2 Axes>"
            ]
          },
          "metadata": {
            "tags": [],
            "needs_background": "light"
          }
        }
      ]
    },
    {
      "cell_type": "code",
      "metadata": {
        "colab": {
          "base_uri": "https://localhost:8080/",
          "height": 111
        },
        "id": "v0WeSWRHGS18",
        "outputId": "d09a4f0f-8944-4663-c6ad-ca50f7c24ad9"
      },
      "source": [
        "final_data"
      ],
      "execution_count": null,
      "outputs": [
        {
          "output_type": "execute_result",
          "data": {
            "text/html": [
              "<div>\n",
              "<style scoped>\n",
              "    .dataframe tbody tr th:only-of-type {\n",
              "        vertical-align: middle;\n",
              "    }\n",
              "\n",
              "    .dataframe tbody tr th {\n",
              "        vertical-align: top;\n",
              "    }\n",
              "\n",
              "    .dataframe thead th {\n",
              "        text-align: right;\n",
              "    }\n",
              "</style>\n",
              "<table border=\"1\" class=\"dataframe\">\n",
              "  <thead>\n",
              "    <tr style=\"text-align: right;\">\n",
              "      <th></th>\n",
              "      <th>Open</th>\n",
              "      <th>High</th>\n",
              "      <th>Low</th>\n",
              "      <th>Close</th>\n",
              "      <th>Diff_body</th>\n",
              "      <th>Diff_wick</th>\n",
              "    </tr>\n",
              "    <tr>\n",
              "      <th>Index</th>\n",
              "      <th></th>\n",
              "      <th></th>\n",
              "      <th></th>\n",
              "      <th></th>\n",
              "      <th></th>\n",
              "      <th></th>\n",
              "    </tr>\n",
              "  </thead>\n",
              "  <tbody>\n",
              "    <tr>\n",
              "      <th>3</th>\n",
              "      <td>1.17720</td>\n",
              "      <td>1.17721</td>\n",
              "      <td>1.17687</td>\n",
              "      <td>1.17702</td>\n",
              "      <td>0.00018</td>\n",
              "      <td>0.00034</td>\n",
              "    </tr>\n",
              "  </tbody>\n",
              "</table>\n",
              "</div>"
            ],
            "text/plain": [
              "         Open    High     Low   Close  Diff_body  Diff_wick\n",
              "Index                                                      \n",
              "3     1.17720 1.17721 1.17687 1.17702    0.00018    0.00034"
            ]
          },
          "metadata": {
            "tags": []
          },
          "execution_count": 94
        }
      ]
    },
    {
      "cell_type": "code",
      "metadata": {
        "colab": {
          "base_uri": "https://localhost:8080/"
        },
        "id": "sT04n6lxGVS3",
        "outputId": "7f8f89c2-1186-40e2-98d2-db664a4184a0"
      },
      "source": [
        "predictions_current,predictions_next"
      ],
      "execution_count": null,
      "outputs": [
        {
          "output_type": "execute_result",
          "data": {
            "text/plain": [
              "(1.185057855726753, 1.1850515167292968)"
            ]
          },
          "metadata": {
            "tags": []
          },
          "execution_count": 95
        }
      ]
    }
  ]
}