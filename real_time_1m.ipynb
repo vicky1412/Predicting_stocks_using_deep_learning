{
  "nbformat": 4,
  "nbformat_minor": 0,
  "metadata": {
    "colab": {
      "name": "real-time-1m.ipynb",
      "provenance": [],
      "collapsed_sections": [],
      "mount_file_id": "1r9z47cNlrsVVo554a5qzhvaPxANs5x4U",
      "authorship_tag": "ABX9TyOINZbzfknJtOWMIKKqz3uw",
      "include_colab_link": true
    },
    "kernelspec": {
      "name": "python3",
      "display_name": "Python 3"
    },
    "language_info": {
      "name": "python"
    }
  },
  "cells": [
    {
      "cell_type": "markdown",
      "metadata": {
        "id": "view-in-github",
        "colab_type": "text"
      },
      "source": [
        "<a href=\"https://colab.research.google.com/github/vicky1412/Predicting_stocks_using_deep_learning-using-realtime-/blob/main/real_time_1m.ipynb\" target=\"_parent\"><img src=\"https://colab.research.google.com/assets/colab-badge.svg\" alt=\"Open In Colab\"/></a>"
      ]
    },
    {
      "cell_type": "code",
      "metadata": {
        "id": "rqAAgrLGmnyG"
      },
      "source": [
        "pip install alpha_vantage"
      ],
      "execution_count": null,
      "outputs": []
    },
    {
      "cell_type": "markdown",
      "metadata": {
        "id": "lCdR6AIuN1_U"
      },
      "source": [
        "## Imports"
      ]
    },
    {
      "cell_type": "code",
      "metadata": {
        "id": "rxlUamvmxzL9"
      },
      "source": [
        "import datetime\n",
        "import time\n",
        "import math\n",
        "import pickle\n",
        "import numpy as np\n",
        "import pandas as pd\n",
        "from sklearn.preprocessing import MinMaxScaler\n",
        "from keras.models import Sequential\n",
        "from keras.layers import Dense,LSTM\n",
        "from keras.models import load_model\n",
        "import matplotlib\n",
        "import matplotlib.pyplot as plt\n",
        "plt.style.use('fivethirtyeight')"
      ],
      "execution_count": null,
      "outputs": []
    },
    {
      "cell_type": "markdown",
      "metadata": {
        "id": "YJb46K_9OA8T"
      },
      "source": [
        "## Load the model"
      ]
    },
    {
      "cell_type": "code",
      "metadata": {
        "id": "UF0Tu6xUOH4w"
      },
      "source": [
        "modelnew = load_model('/content/drive/MyDrive/Option Trading/model-1m(price).h5')\n",
        "modelold = load_model('/content/drive/MyDrive/Option Trading/options-5m-model.h5')"
      ],
      "execution_count": null,
      "outputs": []
    },
    {
      "cell_type": "markdown",
      "metadata": {
        "id": "jJ0CFbuBO-4x"
      },
      "source": [
        "## Create API object"
      ]
    },
    {
      "cell_type": "code",
      "metadata": {
        "id": "YKZTix9fmyWr"
      },
      "source": [
        "from alpha_vantage.foreignexchange import ForeignExchange\n",
        "\n",
        "API_Key = 'GICCCRW4PJWT0C9'\n",
        "ts = ForeignExchange(key=API_Key,output_format='pandas')\n"
      ],
      "execution_count": null,
      "outputs": []
    },
    {
      "cell_type": "markdown",
      "metadata": {
        "id": "KRbBpJMwYjqZ"
      },
      "source": [
        "## Real-time prediction"
      ]
    },
    {
      "cell_type": "code",
      "metadata": {
        "colab": {
          "base_uri": "https://localhost:8080/",
          "height": 343
        },
        "id": "yDQIh_q3YphZ",
        "outputId": "f13e4b5e-56c4-493c-a0f3-4dcb57df00f4"
      },
      "source": [
        "data = ts.get_currency_exchange_intraday(from_symbol='EUR', to_symbol='USD', interval='1min', outputsize='full')[0]\n",
        "# Rename the columns\n",
        "data.rename(columns = {'1. open':'Open'}, inplace = True)\n",
        "data.rename(columns = {'2. high':'High'}, inplace = True)\n",
        "data.rename(columns = {'3. low':'Low'}, inplace = True)\n",
        "data.rename(columns = {'4. close':'Close'}, inplace = True)\n",
        "# set Index\n",
        "data['Index'] = np.arange(len(data))\n",
        "data.set_index('Index',inplace=True)\n",
        "# Add Candle column\n",
        "def colors(row):\n",
        "  if row['Open'] < row['Close']:\n",
        "    return 1\n",
        "  elif row['Open'] > row['Close']:\n",
        "    return 0\n",
        "  else:\n",
        "    return 0\n",
        "data['Candle'] = data.apply (lambda row: colors(row), axis=1)\n",
        "# Target (Close) and (Candle)\n",
        "dfclose = data.filter(['Close'])\n",
        "dfcandle = data.filter(['Candle'])\n",
        "# extract last 60 \n",
        "# reverse it\n",
        "last_60_1m_close = dfclose[0:60]\n",
        "last_60_1m_close = last_60_1m_close.iloc[::-1]\n",
        "# set Index\n",
        "last_60_1m_close['Index'] = np.arange(len(last_60_1m_close))\n",
        "last_60_1m_close.set_index('Index',inplace=True)\n",
        "\n",
        "def predictprice(price_data):\n",
        "  # DF-->array\n",
        "  price_data = price_data.values\n",
        "  # Scale(0,1)\n",
        "  scaler = MinMaxScaler(feature_range=(0,1))\n",
        "  last_60_1m_price_scaled = scaler.fit_transform(price_data)\n",
        "  objprice = scaler.fit(price_data)\n",
        "  #create x_test\n",
        "  x_test_price = []\n",
        "  x_test_price.append(last_60_1m_price_scaled)\n",
        "  # X_test-->numpy array\n",
        "  x_test_price = np.array(x_test_price)\n",
        "  # Reshape\n",
        "  x_test_price = np.reshape(x_test_price,(x_test_price.shape[0],x_test_price.shape[1],1))\n",
        "  #Predict\n",
        "  predict_price_new = modelnew.predict(x_test_price)\n",
        "  predict_price_new = objprice.inverse_transform(predict_price_new)\n",
        "  predict_price_old = modelold.predict(x_test_price)\n",
        "  predict_price_old = objprice.inverse_transform(predict_price_old)\n",
        "  return predict_price_old,predict_price_new\n",
        "\n",
        "# Predict\n",
        "predict_price_old,predict_price_new = predictprice(last_60_1m_close)\n",
        "\n",
        "# Get data for plotting\n",
        "# previous value\n",
        "# extract last 10 \n",
        "previous_candle = dfcandle[0:10]\n",
        "# reverse it\n",
        "previous_candle = previous_candle.iloc[::-1]\n",
        "# set Index\n",
        "previous_candle['Index'] = np.arange(len(previous_candle))\n",
        "previous_candle.set_index('Index',inplace=True)\n",
        "# predited value\n",
        "# predict_old\n",
        "if data.Close[0] < predict_price_old[0][0]:\n",
        "  predict_old = 1\n",
        "elif data.Close[0] > predict_price_old[0][0]:\n",
        "  predict_old = 0\n",
        "else:\n",
        "  predict_old = 0\n",
        "# predict_new\n",
        "if data.Close[0] < predict_price_new[0][0]:\n",
        "  predict_new = 1\n",
        "elif data.Close[0] > predict_price_new[0][0]:\n",
        "  predict_new = 0\n",
        "else:\n",
        "  predict_new = 0\n",
        "\n",
        "# Virtualize\n",
        "fig, ax = plt.subplots(1,2,figsize=(12,5))\n",
        "# Title\n",
        "ax[0].set(title=\"Old_Model\", xlabel=\"Height\", ylabel=\"Width\")\n",
        "ax[1].set(title=\"New_Model\", xlabel=\"Height\", ylabel=\"Width\")\n",
        "# X and Y limit\n",
        "ax[0].set_xlim(0,5)\n",
        "ax[0].set_ylim(0,5)\n",
        "ax[1].set_xlim(0,5)\n",
        "ax[1].set_ylim(0,5)\n",
        "# hide grid\n",
        "ax[0].grid(False)\n",
        "ax[1].grid(False)\n",
        "# hide axis\n",
        "ax[0].axis('off')\n",
        "ax[1].axis('off')\n",
        "\n",
        "def rects(axx,ayy,width,height,cancolor):\n",
        "  rect = matplotlib.patches.Rectangle((axx, ayy),width, height,color =cancolor)\n",
        "  return rect\n",
        "\n",
        "# Previous candles\n",
        "# ayy = 0\n",
        "# for index, row in previous_candle.iterrows():\n",
        "#   axx = index*1\n",
        "#   if row[\"Candle\"] == 1:\n",
        "#     ayy = ayy + 3\n",
        "#     cancolor = 'Green'\n",
        "#     rect = rects(axx,ayy,1,3,cancolor)\n",
        "#     ax[0].add_patch(rect)\n",
        "#   elif row[\"Candle\"] == 0:\n",
        "#     ayy = ayy - 3\n",
        "#     cancolor = 'Red'\n",
        "#     rect = rects(axx,ayy,1,3,cancolor)\n",
        "#     ax[0].add_patch(rect)\n",
        "\n",
        "# Predicted candle\n",
        "# predicted_old\n",
        "if predict_old == 1:\n",
        "  rect = rects(2,1,1,3,'green')\n",
        "  ax[0].add_patch(rect)\n",
        "else:\n",
        "  rect = rects(2,1,1,3,'red')\n",
        "  ax[0].add_patch(rect)\n",
        "# predicted_new\n",
        "if predict_new == 1:\n",
        "  rect = rects(2,1,1,3,'green')\n",
        "  ax[1].add_patch(rect)\n",
        "else:\n",
        "  rect = rects(2,1,1,3,'red')\n",
        "  ax[1].add_patch(rect)\n"
      ],
      "execution_count": null,
      "outputs": [
        {
          "output_type": "display_data",
          "data": {
            "image/png": "[encoded data removed]",
            "text/plain": [
              "<Figure size 864x360 with 2 Axes>"
            ]
          },
          "metadata": {
            "tags": []
          }
        }
      ]
    },
    {
      "cell_type": "markdown",
      "metadata": {
        "id": "WA_D0DnXPNoQ"
      },
      "source": [
        "## Data"
      ]
    },
    {
      "cell_type": "code",
      "metadata": {
        "id": "CwsxHrP9qSxS"
      },
      "source": [
        "data = ts.get_currency_exchange_intraday(from_symbol='EUR', to_symbol='USD', interval='1min', outputsize='full')[0]\n",
        "data.head()"
      ],
      "execution_count": null,
      "outputs": []
    },
    {
      "cell_type": "markdown",
      "metadata": {
        "id": "BwWiR2jT0McK"
      },
      "source": [
        "## Data Manipulation"
      ]
    },
    {
      "cell_type": "code",
      "metadata": {
        "id": "AD6xhemMQNIK"
      },
      "source": [
        "# Rename the columns\n",
        "data.rename(columns = {'1. open':'Open'}, inplace = True)\n",
        "data.rename(columns = {'2. high':'High'}, inplace = True)\n",
        "data.rename(columns = {'3. low':'Low'}, inplace = True)\n",
        "data.rename(columns = {'4. close':'Close'}, inplace = True)"
      ],
      "execution_count": null,
      "outputs": []
    },
    {
      "cell_type": "code",
      "metadata": {
        "id": "NitmXZnQXUzy"
      },
      "source": [
        "# set Index\n",
        "data['Index'] = np.arange(len(data))\n",
        "data.set_index('Index',inplace=True)"
      ],
      "execution_count": null,
      "outputs": []
    },
    {
      "cell_type": "code",
      "metadata": {
        "id": "rIwpv9X2TKn_"
      },
      "source": [
        "# Add Candle column\n",
        "\n",
        "def colors(row):\n",
        "  if row['Open'] < row['Close']:\n",
        "    return 1\n",
        "  elif row['Open'] > row['Close']:\n",
        "    return 0\n",
        "  else:\n",
        "    return 0\n",
        "    \n",
        "data['Candle'] = data.apply (lambda row: colors(row), axis=1)"
      ],
      "execution_count": null,
      "outputs": []
    },
    {
      "cell_type": "code",
      "metadata": {
        "id": "-eOSW5spYOOx"
      },
      "source": [
        "# Target (Close) and (Candle)\n",
        "dfclose = data.filter(['Close'])\n",
        "dfcandle = data.filter(['Candle'])\n"
      ],
      "execution_count": null,
      "outputs": []
    },
    {
      "cell_type": "code",
      "metadata": {
        "id": "_5bqVdLZQRxV"
      },
      "source": [
        "data"
      ],
      "execution_count": null,
      "outputs": []
    },
    {
      "cell_type": "markdown",
      "metadata": {
        "id": "P0c-fpc34yCs"
      },
      "source": [
        "## Extract last 60 data"
      ]
    },
    {
      "cell_type": "code",
      "metadata": {
        "colab": {
          "base_uri": "https://localhost:8080/"
        },
        "id": "I4n4bZ2c417L",
        "outputId": "fa6ec9a7-631c-42ba-bbb1-51a10f9f5191"
      },
      "source": [
        "# extract last 60 \n",
        "# reverse it\n",
        "last_60_1m_close = dfclose[0:60]\n",
        "last_60_1m_close = last_60_1m_close.iloc[::-1]\n",
        "\n",
        "# set Index\n",
        "last_60_1m_close['Index'] = np.arange(len(last_60_1m_close))\n",
        "last_60_1m_close.set_index('Index',inplace=True)"
      ],
      "execution_count": null,
      "outputs": [
        {
          "output_type": "execute_result",
          "data": {
            "text/plain": [
              "60"
            ]
          },
          "metadata": {
            "tags": []
          },
          "execution_count": 12
        }
      ]
    },
    {
      "cell_type": "markdown",
      "metadata": {
        "id": "Wubk6zHj53Fp"
      },
      "source": [
        "## Predict function"
      ]
    },
    {
      "cell_type": "code",
      "metadata": {
        "id": "eCtI8Qtt7c1D"
      },
      "source": [
        "def predictprice(price_data):\n",
        "  # DF-->array\n",
        "  price_data = price_data.values\n",
        "\n",
        "  # Scale(0,1)\n",
        "  scaler = MinMaxScaler(feature_range=(0,1))\n",
        "  last_60_1m_price_scaled = scaler.fit_transform(price_data)\n",
        "\n",
        "  objprice = scaler.fit(price_data)\n",
        "\n",
        "  #create x_test\n",
        "  x_test_price = []\n",
        "  x_test_price.append(last_60_1m_price_scaled)\n",
        "\n",
        "  # X_test-->numpy array\n",
        "  x_test_price = np.array(x_test_price)\n",
        "\n",
        "  # Reshape\n",
        "  x_test_price = np.reshape(x_test_price,(x_test_price.shape[0],x_test_price.shape[1],1))\n",
        "\n",
        "  #Predict\n",
        "  predict_price = modelprice.predict(x_test_price)\n",
        "  predict_price = objprice.inverse_transform(predict_price)\n",
        "\n",
        "  return predict_price\n"
      ],
      "execution_count": null,
      "outputs": []
    },
    {
      "cell_type": "code",
      "metadata": {
        "id": "3rt0ItjCXxlo"
      },
      "source": [
        "predict_price = predictprice(last_60_1m_close)"
      ],
      "execution_count": null,
      "outputs": []
    },
    {
      "cell_type": "markdown",
      "metadata": {
        "id": "-HbkJx1f0XrK"
      },
      "source": [
        "## Get Data for Plotting"
      ]
    },
    {
      "cell_type": "code",
      "metadata": {
        "id": "dlLs0rvb0hVf"
      },
      "source": [
        "# previous value\n",
        "\n",
        "# extract last 10 \n",
        "# reverse it\n",
        "previous_candle = dfcandle[0:10]\n",
        "previous_candle = previous_candle.iloc[::-1]\n",
        "# set Index\n",
        "previous_candle['Index'] = np.arange(len(previous_candle))\n",
        "previous_candle.set_index('Index',inplace=True)\n",
        "\n",
        "# predited value\n",
        "\n",
        "if data.Close[0] < predict_price[0][0]:\n",
        "  predict = 1\n",
        "elif data.Close[0] > predict_price[0][0]:\n",
        "  predict = 0\n",
        "else:\n",
        "  predict = 0\n"
      ],
      "execution_count": null,
      "outputs": []
    },
    {
      "cell_type": "markdown",
      "metadata": {
        "id": "QNTlG65ioj32"
      },
      "source": [
        "## Virtualize"
      ]
    },
    {
      "cell_type": "code",
      "metadata": {
        "colab": {
          "base_uri": "https://localhost:8080/",
          "height": 343
        },
        "id": "vBZVeFvCsxCR",
        "outputId": "2c2a0de6-289c-4256-a356-8db9c7ee52e7"
      },
      "source": [
        "fig, ax = plt.subplots(1,2,figsize=(12,5))\n",
        "\n",
        "ax[0].set(title=\"Previous Candles\", xlabel=\"Height\", ylabel=\"Width\")\n",
        "ax[1].set(title=\"predicted Candle\", xlabel=\"Height\", ylabel=\"Width\")\n",
        "\n",
        "ax[0].set_xlim(-15,30)\n",
        "ax[0].set_ylim(-30,30)\n",
        "ax[1].set_xlim(0,5)\n",
        "ax[1].set_ylim(0,5)\n",
        "\n",
        "# hide grid\n",
        "ax[0].grid(False)\n",
        "ax[1].grid(False)\n",
        "\n",
        "# hide axis\n",
        "ax[0].axis('off')\n",
        "ax[1].axis('off')\n",
        "\n",
        "def rects(axx,ayy,width,height,cancolor):\n",
        "  rect = matplotlib.patches.Rectangle((axx, ayy),width, height,color =cancolor)\n",
        "  return rect\n",
        "\n",
        "# Previous candles\n",
        "\n",
        "ayy = 0\n",
        "for index, row in previous_candle.iterrows():\n",
        "  axx = index*1\n",
        "  if row[\"Candle\"] == 1:\n",
        "    ayy = ayy + 3\n",
        "    cancolor = 'Green'\n",
        "    rect = rects(axx,ayy,1,3,cancolor)\n",
        "    ax[0].add_patch(rect)\n",
        "  elif row[\"Candle\"] == 0:\n",
        "    ayy = ayy - 3\n",
        "    cancolor = 'Red'\n",
        "    rect = rects(axx,ayy,1,3,cancolor)\n",
        "    ax[0].add_patch(rect)\n",
        "\n",
        "# Predicted candle\n",
        "\n",
        "if predict == 1:\n",
        "  rect = rects(2,1,1,3,'green')\n",
        "  ax[1].add_patch(rect)\n",
        "else:\n",
        "  rect = rects(2,1,1,3,'red')\n",
        "  ax[1].add_patch(rect)"
      ],
      "execution_count": null,
      "outputs": [
        {
          "output_type": "display_data",
          "data": {
            "image/png": "[encoded data removed]",
            "text/plain": [
              "<Figure size 864x360 with 2 Axes>"
            ]
          },
          "metadata": {
            "tags": []
          }
        }
      ]
    }
  ]
}